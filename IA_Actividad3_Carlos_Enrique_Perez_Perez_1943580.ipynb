{
  "nbformat": 4,
  "nbformat_minor": 0,
  "metadata": {
    "colab": {
      "name": "IA_Actividad3_Carlos_Enrique_Perez_Perez_1943580.ipynb",
      "provenance": [],
      "collapsed_sections": [],
      "authorship_tag": "ABX9TyMjkdJNVSbrCA2U3ufrWExn",
      "include_colab_link": true
    },
    "kernelspec": {
      "name": "python3",
      "display_name": "Python 3"
    },
    "language_info": {
      "name": "python"
    }
  },
  "cells": [
    {
      "cell_type": "markdown",
      "metadata": {
        "id": "view-in-github",
        "colab_type": "text"
      },
      "source": [
        "<a href=\"https://colab.research.google.com/github/TheCepp/AI_CarlosPerez/blob/main/IA_Actividad3_Carlos_Enrique_Perez_Perez_1943580.ipynb\" target=\"_parent\"><img src=\"https://colab.research.google.com/assets/colab-badge.svg\" alt=\"Open In Colab\"/></a>"
      ]
    },
    {
      "cell_type": "markdown",
      "metadata": {
        "id": "DYZ-r6Ed7QK3"
      },
      "source": [
        "Actividad 3 Ejercicios Introducción Python 2da parte\n",
        "Carlos Enrique Perez Perez 1943580 N4-N6"
      ]
    },
    {
      "cell_type": "code",
      "metadata": {
        "id": "bOtvC7MDESbm",
        "colab": {
          "base_uri": "https://localhost:8080/"
        },
        "outputId": "f031865b-8524-4014-b2e1-6573e7055f93"
      },
      "source": [
        "\n",
        "#Ejercicio 1.1\n",
        "\n",
        "\n",
        "comida1=input(\"Menciona tus 7 comidas favoritas  \")\n",
        "\n",
        "comida2=input()\n",
        "comida3=input()\n",
        "comida4=input()\n",
        "comida5=input()\n",
        "comida6=input()\n",
        "comida7=input()\n",
        "\n",
        "list=[comida1,comida2,comida3,comida4,comida5,comida6,comida7]\n",
        "\n",
        "\n",
        "\n",
        "print (list[0])\n",
        "\n",
        "i=1\n",
        "while i<7:\n",
        "    print(list[i])\n",
        "    i+=1"
      ],
      "execution_count": null,
      "outputs": [
        {
          "output_type": "stream",
          "name": "stdout",
          "text": [
            "Menciona tus 7 comidas favoritas  Tacos\n",
            "Lasaña\n",
            "Sandwich\n",
            "Sushi\n",
            "Pollo asado\n",
            "Helado frito\n",
            "Costillas\n",
            "Tacos\n",
            "Lasaña\n",
            "Sandwich\n",
            "Sushi\n",
            "Pollo asado\n",
            "Helado frito\n",
            "Costillas\n"
          ]
        }
      ]
    },
    {
      "cell_type": "code",
      "metadata": {
        "id": "14sAXgiq8DFq",
        "colab": {
          "base_uri": "https://localhost:8080/"
        },
        "outputId": "9f80c1b0-c79a-4eda-ed83-7211f8596dcb"
      },
      "source": [
        "Sushi \n",
        "#Ejercicio 1.2\n",
        "comida1=input(\"Menciona tus 7 comidas favoritas  \")\n",
        "\n",
        "comida2=input()\n",
        "comida3=input()\n",
        "comida4=input()\n",
        "comida5=input()\n",
        "comida6=input()\n",
        "comida7=input()\n",
        "\n",
        "list=[comida1,comida2,comida3,comida4,comida5,comida6,comida7]\n",
        "\n",
        "\n",
        "\n",
        "print (\"Mi primera comida favorita:  \" +list[0])\n",
        "\n",
        "i=1\n",
        "while i<7:\n",
        "    print(\"Otra comida favorita:  \"+ list[i])\n",
        "    i+=1"
      ],
      "execution_count": null,
      "outputs": [
        {
          "output_type": "stream",
          "name": "stdout",
          "text": [
            "Menciona tus 7 comidas favoritas  Tacos\n",
            "Lasaña\n",
            "Sopa\n",
            "Sandwich\n",
            "Pescado\n",
            "Pollo\n",
            "Carne asada\n",
            "Mi primera comida favorita:  Tacos\n",
            "Otra comida favorita:  Lasaña\n",
            "Otra comida favorita:  Sopa\n",
            "Otra comida favorita:  Sandwich\n",
            "Otra comida favorita:  Pescado\n",
            "Otra comida favorita:  Pollo\n",
            "Otra comida favorita:  Carne asada\n"
          ]
        }
      ]
    },
    {
      "cell_type": "code",
      "metadata": {
        "colab": {
          "base_uri": "https://localhost:8080/"
        },
        "id": "YEgInRFl_D7c",
        "outputId": "c6229ec4-eab4-4cad-e2a1-b62076c13550"
      },
      "source": [
        "#Ejercicio 2\n",
        "\n",
        "variables=[\"piedra\",\"papel\",\"tijera\"]\n",
        "jugador1=input(\"Turno del jugador 1: \")\n",
        "jugador2=input(\"Turno del jugador 2: \")\n",
        "\n",
        "if (jugador1==jugador2):\n",
        "    print(\"Empate\")\n",
        "    \n",
        "if (jugador1==\"tijera\"):\n",
        "    if(jugador2==\"papel\"):\n",
        "        print(\"Gana el jugador 1\")\n",
        "    if(jugador2==\"piedra\"):\n",
        "        print(\"Gana el jugador 2\")\n",
        "        \n",
        "if (jugador1==\"piedra\"):\n",
        "    if(jugador2==\"tijera\"):\n",
        "        print(\"Gana el jugador 1\")\n",
        "    if(jugador2==\"papel\"):\n",
        "        print(\"Gana el jugador 2\")\n",
        "        \n",
        "if (jugador1==\"papel\"):\n",
        "    if(jugador2==\"piedra\"):\n",
        "        print(\"Gana el jugador 1\")\n",
        "    if(jugador2==\"tijera\"):\n",
        "        print(\"Gana el jugador 2\")"
      ],
      "execution_count": null,
      "outputs": [
        {
          "output_type": "stream",
          "name": "stdout",
          "text": [
            "Turno del jugador 1: papel\n",
            "Turno del jugador 2: piedra\n",
            "Gana el jugador 1\n"
          ]
        }
      ]
    },
    {
      "cell_type": "code",
      "metadata": {
        "colab": {
          "base_uri": "https://localhost:8080/"
        },
        "id": "ujlhB4NgA-vP",
        "outputId": "4e1b0632-c83d-4136-c9cf-cb238a3f9261"
      },
      "source": [
        "#Ejercicio 3\n",
        "print(\"123456\")\n",
        "print(\"12345\")\n",
        "print(\"1234\")\n",
        "print(\"123\")\n",
        "print(\"12\")\n",
        "print(\"1\")\n",
        "print(\"12\")\n",
        "print(\"123\")\n",
        "print(\"1234\")\n",
        "print(\"12345\")\n",
        "print(\"123456\")"
      ],
      "execution_count": null,
      "outputs": [
        {
          "output_type": "stream",
          "name": "stdout",
          "text": [
            "123456\n",
            "12345\n",
            "1234\n",
            "123\n",
            "12\n",
            "1\n",
            "12\n",
            "123\n",
            "1234\n",
            "12345\n",
            "123456\n"
          ]
        }
      ]
    }
  ]
}
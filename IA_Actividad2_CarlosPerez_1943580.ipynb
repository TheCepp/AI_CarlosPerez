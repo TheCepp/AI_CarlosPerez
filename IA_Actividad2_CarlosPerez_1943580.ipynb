{
  "nbformat": 4,
  "nbformat_minor": 0,
  "metadata": {
    "colab": {
      "name": "IA_Actividad2_CarlosPerez_1943580.ipynb",
      "provenance": [],
      "authorship_tag": "ABX9TyPGKUsYYISv6yUjfvLLLClQ",
      "include_colab_link": true
    },
    "kernelspec": {
      "name": "python3",
      "display_name": "Python 3"
    },
    "language_info": {
      "name": "python"
    }
  },
  "cells": [
    {
      "cell_type": "markdown",
      "metadata": {
        "id": "view-in-github",
        "colab_type": "text"
      },
      "source": [
        "<a href=\"https://colab.research.google.com/github/TheCepp/AI_CarlosPerez/blob/main/IA_Actividad2_CarlosPerez_1943580.ipynb\" target=\"_parent\"><img src=\"https://colab.research.google.com/assets/colab-badge.svg\" alt=\"Open In Colab\"/></a>"
      ]
    },
    {
      "cell_type": "markdown",
      "metadata": {
        "id": "R_mrdOj_Q3gk"
      },
      "source": [
        ""
      ]
    },
    {
      "cell_type": "code",
      "metadata": {
        "id": "2w4jM4obQ7Ft"
      },
      "source": [
        "Actividad 2 Ejericios introduccion python Jueves N4 Carlos Enrique Perez Perez 1943580"
      ],
      "execution_count": null,
      "outputs": []
    },
    {
      "cell_type": "code",
      "metadata": {
        "colab": {
          "base_uri": "https://localhost:8080/"
        },
        "id": "XdtKWdkKRAF0",
        "outputId": "fd6a0f82-d435-47ad-81a3-ce7ec1f09fdb"
      },
      "source": [
        "print (\"Como te llamas?\")\n",
        "nombre=input()\n",
        "print (\"Que edad tienes en años?\")\n",
        "edad= input()\n",
        "print (\"Cual es tu frase favorita?\")\n",
        "frase=input()\n",
        "print(\"Quien es el autor de esa frase?\")\n",
        "autor=input()\n",
        "print(\"Tu nombre es \"+nombre +\", tu edad es de \" + edad +\" años,\"+\"tu frase favorita es: \"+frase+\", cuyo autor es \"+autor)"
      ],
      "execution_count": 29,
      "outputs": [
        {
          "output_type": "stream",
          "name": "stdout",
          "text": [
            "Como te llamas?\n",
            "carlos Perez\n",
            "Que edad tienes en años?\n",
            "20\n",
            "Cual es tu frase favorita?\n",
            "Quieres conocer a alguien, dale poder\n",
            "Quien es el autor de esa frase?\n",
            "Abraham Lincoln\n",
            "Tu nombre es carlos Perez, tu edad es de 20 años,tu frase favorita es: Quieres conocer a alguien, dale poder, cuyo autor es Abraham Lincoln\n"
          ]
        }
      ]
    },
    {
      "cell_type": "code",
      "metadata": {
        "colab": {
          "base_uri": "https://localhost:8080/"
        },
        "id": "aVMy56-sty3u",
        "outputId": "1a0096ce-be86-4bd6-cb42-fd9abb71e54e"
      },
      "source": [
        "print(\"Hola!, favor de ingresar 2 números enteros,\")\n",
        "int1=int(input())\n",
        "int2=int(input())\n",
        "print(\"Ahora, por favor escribe 2 números con decimal(flotantes)\")\n",
        "flotante1=float(input())\n",
        "flotante2=float(input())\n",
        "print(\"A continuación te mostraré el resultado de las operaciones \\nbásicas que pueden realizarse con los 2 número enteros\")\n",
        "suma=(int1+int2)\n",
        "resta=(int1-int2)\n",
        "multi=(int1*int2)\n",
        "division=(int1/int2)\n",
        "print(\"El resultado de la suma es \", suma,\", el resultado de la resta es \",resta,\" \\nel resultado de la multiplicación es \",multi,\" y el resultado de la división es \",division)\n",
        "suma2=(flotante1+flotante2)\n",
        "resta2=(flotante1-flotante2)\n",
        "multi2=(flotante1*flotante2)\n",
        "division2=(flotante1/flotante2)\n",
        "print(\"Ahora te mostraré que resultado dan las operaciones básicas que pueden realizarse con los 2 número flotantes\")\n",
        "print(\"El resultado de la suma es \", suma2,\", el resultado de la resta es \",resta2,\" \\nel resultado de la multiplicación es \",multi2,\" y el resultado de la división es \",division2)"
      ],
      "execution_count": 28,
      "outputs": [
        {
          "output_type": "stream",
          "name": "stdout",
          "text": [
            "Hola!, favor de ingresar 2 números enteros,\n",
            "1\n",
            "2\n",
            "Ahora, por favor escribe 2 números con decimal(flotantes)\n",
            "1.5\n",
            "1.8\n",
            "A continuación te mostraré el resultado de las operaciones \n",
            "básicas que pueden realizarse con los 2 número enteros\n",
            "El resultado de la suma es  3 , el resultado de la resta es  -1  \n",
            "el resultado de la multiplicación es  2  y el resultado de la división es  0.5\n",
            "Ahora te mostraré que resultado dan las operaciones básicas que pueden realizarse con los 2 número flotantes\n",
            "El resultado de la suma es  3.3 , el resultado de la resta es  -0.30000000000000004  \n",
            "el resultado de la multiplicación es  2.7  y el resultado de la división es  0.8333333333333333\n"
          ]
        }
      ]
    },
    {
      "cell_type": "code",
      "metadata": {
        "colab": {
          "base_uri": "https://localhost:8080/"
        },
        "id": "6OfQJ07V3O99",
        "outputId": "9cad4d50-b0d1-46d8-d381-a447024d04f5"
      },
      "source": [
        "var1=1\n",
        "var2=2\n",
        "var3=3\n",
        "if(var1<3 and var2>5)or var3<10 :\n",
        "  condicion=True\n",
        "print (not condicion)"
      ],
      "execution_count": 27,
      "outputs": [
        {
          "output_type": "stream",
          "name": "stdout",
          "text": [
            "False\n"
          ]
        }
      ]
    }
  ]
}
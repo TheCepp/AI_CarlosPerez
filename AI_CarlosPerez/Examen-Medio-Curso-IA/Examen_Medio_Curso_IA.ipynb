{
  "nbformat": 4,
  "nbformat_minor": 0,
  "metadata": {
    "colab": {
      "name": "Examen-Medio-Curso-IA.ipynb",
      "provenance": [],
      "authorship_tag": "ABX9TyNwsY99sCPZJ7XS31GHw+1M",
      "include_colab_link": true
    },
    "kernelspec": {
      "name": "python3",
      "display_name": "Python 3"
    },
    "language_info": {
      "name": "python"
    }
  },
  "cells": [
    {
      "cell_type": "markdown",
      "metadata": {
        "id": "view-in-github",
        "colab_type": "text"
      },
      "source": [
        "<a href=\"https://colab.research.google.com/github/TheCepp/AI_CarlosPerez/blob/main/AI_CarlosPerez/Examen-Medio-Curso-IA/Examen_Medio_Curso_IA.ipynb\" target=\"_parent\"><img src=\"https://colab.research.google.com/assets/colab-badge.svg\" alt=\"Open In Colab\"/></a>"
      ]
    },
    {
      "cell_type": "code",
      "metadata": {
        "colab": {
          "base_uri": "https://localhost:8080/"
        },
        "id": "rOU4UniiCQUJ",
        "outputId": "06d88d94-5ba9-4b4f-d4bc-5a824f0bda69"
      },
      "source": [
        "ex_lista = [10, 15, 17, 21, 22, 34, 37, 40, 45, 52, 66, 68, 81, 84, 91, 94, 102, 105, 109]\n",
        "print(\"Lista completa: \", ex_lista)\n",
        "\n",
        "new_lista=[]\n",
        "\n",
        "for x in ex_lista:\n",
        "  if x%2>0:\n",
        "    new_lista.append(x)\n",
        "print(\"Lista sin números pares: \", new_lista)\n"
      ],
      "execution_count": null,
      "outputs": [
        {
          "output_type": "stream",
          "name": "stdout",
          "text": [
            "Lista completa:  [10, 15, 17, 21, 22, 34, 37, 40, 45, 52, 66, 68, 81, 84, 91, 94, 102, 105, 109]\n",
            "Lista sin números pares:  [15, 17, 21, 37, 45, 81, 91, 105, 109]\n"
          ]
        }
      ]
    },
    {
      "cell_type": "code",
      "metadata": {
        "colab": {
          "base_uri": "https://localhost:8080/"
        },
        "id": "yrjtRGQ6FEVG",
        "outputId": "3ee0264a-060c-4453-ae1e-e0d94708b9d4"
      },
      "source": [
        "print(\"¡Hola usuario!, Favor de ingresar sus 5 peliculas favoritas de la que más le gusta a la que menos le gusta\")\n",
        "p1=input(\"Puesto 1: \")\n",
        "p2=input(\"Puesto 2: \")\n",
        "p3=input(\"Puesto 3: \")\n",
        "p4=input(\"Puesto 4: \")\n",
        "p5=input(\"Puesto 5: \")\n",
        "list=[p1,p2,p3,p4,p5]\n",
        "for x in range(0,len(list)):\n",
        "  print(\"La película \",list[x], \" está en la posición \",list.index(list[x])+1,  \" de mi top 5\")\n"
      ],
      "execution_count": null,
      "outputs": [
        {
          "output_type": "stream",
          "name": "stdout",
          "text": [
            "¡Hola usuario!, Favor de ingresar sus 5 peliculas favoritas de la que más le gusta a la que menos le gusta\n",
            "Puesto 1: Soul\n",
            "Puesto 2: Shrek 2\n",
            "Puesto 3: Star wars\n",
            "Puesto 4: Lego Movie\n",
            "Puesto 5: Interstellar\n",
            "La película  Soul  está en la posición  1  de mi top 5\n",
            "La película  Shrek 2  está en la posición  2  de mi top 5\n",
            "La película  Star wars  está en la posición  3  de mi top 5\n",
            "La película  Lego Movie  está en la posición  4  de mi top 5\n",
            "La película  Interstellar  está en la posición  5  de mi top 5\n"
          ]
        }
      ]
    }
  ]
}